{
 "cells": [
  {
   "cell_type": "code",
   "execution_count": 1,
   "id": "574537aa-2bdf-46a8-ac6e-5127d3062b29",
   "metadata": {},
   "outputs": [
    {
     "name": "stdout",
     "output_type": "stream",
     "text": [
      "\n",
      "            Sub-fields in AI are:\n",
      "            Machine Learning\n",
      "            Neural Networks\n",
      "            Vision\n",
      "            Robotics\n",
      "            Speech Processing\n",
      "            Natural Language Processing\n",
      "            \n"
     ]
    }
   ],
   "source": [
    "class SubfieldsInAI:\n",
    "    def Subfields():\n",
    "        print(\"\"\"\n",
    "            Sub-fields in AI are:\n",
    "            Machine Learning\n",
    "            Neural Networks\n",
    "            Vision\n",
    "            Robotics\n",
    "            Speech Processing\n",
    "            Natural Language Processing\n",
    "            \"\"\")\n",
    "\n",
    "SubfieldsInAI.Subfields()"
   ]
  },
  {
   "cell_type": "code",
   "execution_count": 4,
   "id": "85c44aeb-7a90-4d9f-8a90-cceec809042c",
   "metadata": {},
   "outputs": [
    {
     "name": "stdin",
     "output_type": "stream",
     "text": [
      "Enter a number: 52452\n"
     ]
    },
    {
     "name": "stdout",
     "output_type": "stream",
     "text": [
      "52452  is Even number\n"
     ]
    }
   ],
   "source": [
    "class OddEven:\n",
    "    def OddEven(x):\n",
    "        if (x%2 == 0):\n",
    "            print(x,\" is Even number\")\n",
    "        else:\n",
    "            print(x,\" is Odd number\")\n",
    "            \n",
    "\n",
    "a=int(input(\"Enter a number:\"))\n",
    "OddEven.OddEven(a)"
   ]
  },
  {
   "cell_type": "code",
   "execution_count": 6,
   "id": "3c197da4-688d-4aad-9f4b-5e4994c1517e",
   "metadata": {},
   "outputs": [
    {
     "name": "stdin",
     "output_type": "stream",
     "text": [
      "Your Gender: Male\n",
      "Your Age: 20\n"
     ]
    },
    {
     "name": "stdout",
     "output_type": "stream",
     "text": [
      "NOT ELIGIBLE\n"
     ]
    }
   ],
   "source": [
    "\n",
    "class ElegiblityForMarriage:\n",
    "    def Elegible():\n",
    "        gender=input(\"Your Gender:\")\n",
    "        age=int(input(\"Your Age:\"))\n",
    "        if ( gender.lower() == 'male' ):\n",
    "            if ( age >= 21 ):\n",
    "                print(\"ELIGIBLE\")\n",
    "            else:\n",
    "                print(\"NOT ELIGIBLE\")\n",
    "        elif( gender.lower() == 'female' ):\n",
    "            if ( age >= 18 ):\n",
    "                print(\"ELIGIBLE\")\n",
    "            else:\n",
    "                print(\"NOT ELIGIBLE\")\n",
    "        else:\n",
    "            print(\"Kindly provide proper gender value\")\n",
    "\n",
    "ElegiblityForMarriage.Elegible()\n"
   ]
  },
  {
   "cell_type": "code",
   "execution_count": 7,
   "id": "733da546-986b-49f1-81a1-f3fd3a689131",
   "metadata": {},
   "outputs": [
    {
     "name": "stdin",
     "output_type": "stream",
     "text": [
      "Subject1= 98\n",
      "Subject2= 87\n",
      "Subject3= 95\n",
      "Subject4= 95\n",
      "Subject5= 93\n"
     ]
    },
    {
     "name": "stdout",
     "output_type": "stream",
     "text": [
      "Total : 468\n",
      "percentage : 93.60000000000001\n"
     ]
    }
   ],
   "source": [
    "\n",
    "class FindPercent:\n",
    "    def percentage():\n",
    "        s1=int(input(\"Subject1=\"))\n",
    "        s2=int(input(\"Subject2=\"))\n",
    "        s3=int(input(\"Subject3=\"))\n",
    "        s4=int(input(\"Subject4=\"))\n",
    "        s5=int(input(\"Subject5=\"))\n",
    "        total= s1 + s2 + s3 + s4 + s5 \n",
    "        percentage = ( total/500 ) * 100\n",
    "        print(\"Total :\",total)\n",
    "        return(print(\"percentage :\",format(percentage, \".14f\")))\n",
    "    \n",
    "FindPercent.percentage()"
   ]
  },
  {
   "cell_type": "code",
   "execution_count": 8,
   "id": "97cac5f4-fba4-45a6-a69a-e9992c5875a3",
   "metadata": {},
   "outputs": [
    {
     "name": "stdin",
     "output_type": "stream",
     "text": [
      "Height: 32\n",
      "Breadth: 34\n"
     ]
    },
    {
     "name": "stdout",
     "output_type": "stream",
     "text": [
      "Area formula: (Height*Breadth)/2\n",
      "area_of_triangle= 544.0\n"
     ]
    },
    {
     "name": "stdin",
     "output_type": "stream",
     "text": [
      "Height1: 2\n",
      "Height2: 4\n",
      "Breadth: 4\n"
     ]
    },
    {
     "name": "stdout",
     "output_type": "stream",
     "text": [
      "Perimeter formula: Height1+Height2+Breadth\n",
      "Perimeter of Triangle: 10\n"
     ]
    }
   ],
   "source": [
    "class triangle:\n",
    "    def triangle():\n",
    "        s1=int(input(\"Height:\"))\n",
    "        s2=int(input(\"Breadth:\"))\n",
    "        print(\"Area formula: (Height*Breadth)/2\")\n",
    "        area_of_triangle=(s1*s2)/2\n",
    "        print(\"area_of_triangle=\",area_of_triangle)\n",
    "        h1=int(input(\"Height1:\"))\n",
    "        h2=int(input(\"Height2:\"))\n",
    "        b1=int(input(\"Breadth:\"))\n",
    "        print(\"Perimeter formula: Height1+Height2+Breadth\")\n",
    "        print(\"Perimeter of Triangle:\", h1+h2+b1 )\n",
    "\n",
    "triangle.triangle()"
   ]
  },
  {
   "cell_type": "code",
   "execution_count": null,
   "id": "12cc38f8-fe8a-4273-b315-159fe6eebe09",
   "metadata": {},
   "outputs": [],
   "source": []
  }
 ],
 "metadata": {
  "kernelspec": {
   "display_name": "Python 3 (ipykernel)",
   "language": "python",
   "name": "python3"
  },
  "language_info": {
   "codemirror_mode": {
    "name": "ipython",
    "version": 3
   },
   "file_extension": ".py",
   "mimetype": "text/x-python",
   "name": "python",
   "nbconvert_exporter": "python",
   "pygments_lexer": "ipython3",
   "version": "3.10.11"
  }
 },
 "nbformat": 4,
 "nbformat_minor": 5
}
