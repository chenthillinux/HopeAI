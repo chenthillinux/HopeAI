{
 "cells": [
  {
   "cell_type": "code",
   "execution_count": 1,
   "id": "60992266-fa02-4363-a647-f40fe71fa785",
   "metadata": {},
   "outputs": [
    {
     "name": "stdout",
     "output_type": "stream",
     "text": [
      "Welcome to Assignment-1\n"
     ]
    }
   ],
   "source": [
    "print(\"Welcome to Assignment-1\")"
   ]
  },
  {
   "cell_type": "code",
   "execution_count": 2,
   "id": "19a64b50-a78a-4453-a060-fd146a3afd0f",
   "metadata": {},
   "outputs": [
    {
     "name": "stdout",
     "output_type": "stream",
     "text": [
      "Num1= 10\n",
      "Num1= 10\n",
      "Add=  40\n"
     ]
    }
   ],
   "source": [
    "Num1=10\n",
    "Num2=30\n",
    "print(\"Num1=\",Num1)\n",
    "print(\"Num1=\",Num1)\n",
    "Add=Num1 + Num2\n",
    "print(\"Add= \",Add)"
   ]
  },
  {
   "cell_type": "code",
   "execution_count": 7,
   "id": "1b9bc090-5da9-4761-ba39-573875e3be93",
   "metadata": {},
   "outputs": [
    {
     "name": "stdin",
     "output_type": "stream",
     "text": [
      "Enter the BMI Index: 27\n"
     ]
    },
    {
     "name": "stdout",
     "output_type": "stream",
     "text": [
      "Overweight\n"
     ]
    }
   ],
   "source": [
    "#### BMI suggestion #### \n",
    "\n",
    "\"\"\"\n",
    "Taken from https://www.calculator.net/bmi-calculator.html\n",
    "\n",
    "Classification\tBMI range - kg/m2\n",
    "Severe Thinness\t< 16\n",
    "Moderate Thinness\t16 - 17\n",
    "Mild Thinness\t17 - 18.5\n",
    "Normal\t18.5 - 25\n",
    "Overweight\t25 - 30\n",
    "Obese Class I\t30 - 35\n",
    "Obese Class II\t35 - 40\n",
    "Obese Class III\t> 40\n",
    "\"\"\"\n",
    "\n",
    "bmi_index_value=float(input(\"Enter the BMI Index:\"))\n",
    "\n",
    "if ( bmi_index_value < 16 ):\n",
    "    print(\"Severe Thinness\")\n",
    "elif ( bmi_index_value > 16 and bmi_index_value <= 17):\n",
    "    print(\"Moderate Thinness\")\n",
    "elif ( bmi_index_value > 17 and bmi_index_value <= 18.5):\n",
    "    print(\"Mild Thinness\")\n",
    "elif ( bmi_index_value > 18.5 and bmi_index_value <= 25):\n",
    "    print(\"Normal\")\n",
    "elif( bmi_index_value > 25 and bmi_index_value <= 30):\n",
    "    print(\"Overweight\")\n",
    "elif( bmi_index_value > 30 and bmi_index_value <= 35):\n",
    "    print(\"Obese Class I\")\n",
    "elif( bmi_index_value > 35 and bmi_index_value <= 40):\n",
    "    print(\"Obese Class II\")\n",
    "else:\n",
    "    print(\"Obese Class III\")\n",
    "\n",
    "    "
   ]
  },
  {
   "cell_type": "code",
   "execution_count": null,
   "id": "2cce9560-fa85-49bf-83b5-fb4ae9d67f07",
   "metadata": {},
   "outputs": [],
   "source": []
  }
 ],
 "metadata": {
  "kernelspec": {
   "display_name": "Python 3 (ipykernel)",
   "language": "python",
   "name": "python3"
  },
  "language_info": {
   "codemirror_mode": {
    "name": "ipython",
    "version": 3
   },
   "file_extension": ".py",
   "mimetype": "text/x-python",
   "name": "python",
   "nbconvert_exporter": "python",
   "pygments_lexer": "ipython3",
   "version": "3.10.11"
  }
 },
 "nbformat": 4,
 "nbformat_minor": 5
}
