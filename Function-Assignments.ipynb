{
 "cells": [
  {
   "cell_type": "code",
   "execution_count": 7,
   "id": "6dce14b9-a36f-419b-aa0d-63f39c015f38",
   "metadata": {},
   "outputs": [
    {
     "name": "stdout",
     "output_type": "stream",
     "text": [
      "\n",
      "Sub-fields in AI are:\n",
      "Machine Learning\n",
      "Neural Networks\n",
      "Vision\n",
      "Robotics\n",
      "Speech Processing\n",
      "Natural Language Processing\n",
      "\n"
     ]
    }
   ],
   "source": [
    "\"\"\"\n",
    "To create function \n",
    "\n",
    "Sub-fields in AI are:\n",
    "Machine Learning\n",
    "Neural Networks\n",
    "Vision\n",
    "Robotics\n",
    "Speech Processing\n",
    "Natural Language Processing\n",
    "\n",
    "\"\"\"\n",
    "\n",
    "def display_ai():\n",
    "    print(\"\"\"\n",
    "Sub-fields in AI are:\n",
    "Machine Learning\n",
    "Neural Networks\n",
    "Vision\n",
    "Robotics\n",
    "Speech Processing\n",
    "Natural Language Processing\n",
    "\"\"\")\n",
    "\n",
    "display_ai()\n",
    "            "
   ]
  },
  {
   "cell_type": "code",
   "execution_count": 8,
   "id": "0dd2ac4f-54b2-468e-b2db-8a11ee58f9a8",
   "metadata": {},
   "outputs": [
    {
     "name": "stdin",
     "output_type": "stream",
     "text": [
      "Enter a number: 52452\n"
     ]
    },
    {
     "name": "stdout",
     "output_type": "stream",
     "text": [
      "52452  is Even number\n"
     ]
    }
   ],
   "source": [
    "\"\"\"\n",
    "Enter a number: 52452\n",
    "52452 is Even number\n",
    "\"\"\"\n",
    "\n",
    "def odd_even(x):\n",
    "    if (x%2 == 0):\n",
    "        print(x,\" is Even number\")\n",
    "    else:\n",
    "        print(x,\" is Odd number\")\n",
    "\n",
    "a=int(input(\"Enter a number:\"))\n",
    "odd_even(a)\n",
    "      \n"
   ]
  },
  {
   "cell_type": "code",
   "execution_count": 15,
   "id": "3ffea9c7-a0c8-4701-8e22-95114aa81cdf",
   "metadata": {},
   "outputs": [
    {
     "name": "stdin",
     "output_type": "stream",
     "text": [
      "Your Gender: Male\n",
      "Your Age: 20\n"
     ]
    },
    {
     "name": "stdout",
     "output_type": "stream",
     "text": [
      "NOT ELIGIBLE\n"
     ]
    }
   ],
   "source": [
    "### Marriage Elegiblity check function #### \n",
    "\"\"\"\n",
    "Your Gender:Male\n",
    "Your Age:20\n",
    "NOT ELIGIBLE\n",
    "\"\"\"\n",
    "\n",
    "x=input(\"Your Gender:\")\n",
    "y=int(input(\"Your Age:\"))\n",
    "\n",
    "def marriage_elegiblity(gender,age):\n",
    "    if ( gender.lower() == 'male' ):\n",
    "        if ( age >= 21 ):\n",
    "            print(\"ELIGIBLE\")\n",
    "        else:\n",
    "            print(\"NOT ELIGIBLE\")\n",
    "    elif( gender.lower() == 'female' ):\n",
    "        if ( age >= 18 ):\n",
    "            print(\"ELIGIBLE\")\n",
    "        else:\n",
    "            print(\"NOT ELIGIBLE\")\n",
    "    else:\n",
    "        print(\"Kindly provide proper gender value\")\n",
    "\n",
    "marriage_elegiblity(x,y)\n"
   ]
  },
  {
   "cell_type": "code",
   "execution_count": 29,
   "id": "6c2ad4cd-9068-4761-82a3-4eef284ac445",
   "metadata": {},
   "outputs": [
    {
     "name": "stdin",
     "output_type": "stream",
     "text": [
      "Subject1= 98\n",
      "Subject2= 87\n",
      "Subject3= 95\n",
      "Subject4= 95\n",
      "Subject5= 93\n"
     ]
    },
    {
     "name": "stdout",
     "output_type": "stream",
     "text": [
      "Total : 468\n",
      "percentage : 93.60000000000001\n"
     ]
    }
   ],
   "source": [
    "\"\"\"\n",
    "Subject1= 98\n",
    "Subject2= 87\n",
    "Subject3= 95\n",
    "Subject4= 95\n",
    "Subject5= 93\n",
    "Total : 468\n",
    "Percentage : 93.60000000000001\n",
    "\"\"\"\n",
    "\n",
    "s1=int(input(\"Subject1=\"))\n",
    "s2=int(input(\"Subject2=\"))\n",
    "s3=int(input(\"Subject3=\"))\n",
    "s4=int(input(\"Subject4=\"))\n",
    "s5=int(input(\"Subject5=\"))\n",
    "\n",
    "def sum(s1,s2,s3,s4,s5):\n",
    "    total= s1 + s2 + s3 + s4 + s5 \n",
    "    percentage = ( total/500 ) * 100\n",
    "    print(\"Total :\",total)\n",
    "    print(\"percentage :\",format(percentage, \".14f\"))\n",
    "    \n",
    "sum(s1,s2,s3,s4,s5)\n"
   ]
  },
  {
   "cell_type": "code",
   "execution_count": 31,
   "id": "745b0c55-84ca-4602-91bf-697b46f936db",
   "metadata": {},
   "outputs": [
    {
     "name": "stdin",
     "output_type": "stream",
     "text": [
      "Height: 32\n",
      "Breadth: 34\n"
     ]
    },
    {
     "name": "stdout",
     "output_type": "stream",
     "text": [
      "Area formula: (Height*Breadth)/2\n",
      "area_of_triangle= 544.0\n"
     ]
    },
    {
     "name": "stdin",
     "output_type": "stream",
     "text": [
      "Height1: 2\n",
      "Height2: 4\n",
      "Breadth: 4\n"
     ]
    },
    {
     "name": "stdout",
     "output_type": "stream",
     "text": [
      "Perimeter formula: Height1+Height2+Breadth\n",
      "Perimeter of Triangle: 10\n"
     ]
    }
   ],
   "source": [
    "\"\"\"\n",
    "Height:32\n",
    "Breadth:34\n",
    "Area formula: (Height*Breadth)/2\n",
    "Area of Triangle: 544.0\n",
    "Height1:2\n",
    "Height2:4\n",
    "Breadth:4\n",
    "Perimeter formula: Height1+Height2+Breadth\n",
    "Perimeter of Triangle: 10\n",
    "\"\"\"\n",
    "\n",
    "s1=int(input(\"Height:\"))\n",
    "s2=int(input(\"Breadth:\"))\n",
    "print(\"Area formula: (Height*Breadth)/2\")\n",
    "area_of_triangle=(s1*s2)/2\n",
    "print(\"area_of_triangle=\",area_of_triangle)\n",
    "h1=int(input(\"Height1:\"))\n",
    "h2=int(input(\"Height2:\"))\n",
    "b1=int(input(\"Breadth:\"))\n",
    "print(\"Perimeter formula: Height1+Height2+Breadth\")\n",
    "print(\"Perimeter of Triangle:\", h1+h2+b1 )\n"
   ]
  },
  {
   "cell_type": "code",
   "execution_count": null,
   "id": "43f7c2c9-0830-4706-a310-2f5bf3ffcc62",
   "metadata": {},
   "outputs": [],
   "source": []
  }
 ],
 "metadata": {
  "kernelspec": {
   "display_name": "Python 3 (ipykernel)",
   "language": "python",
   "name": "python3"
  },
  "language_info": {
   "codemirror_mode": {
    "name": "ipython",
    "version": 3
   },
   "file_extension": ".py",
   "mimetype": "text/x-python",
   "name": "python",
   "nbconvert_exporter": "python",
   "pygments_lexer": "ipython3",
   "version": "3.10.11"
  }
 },
 "nbformat": 4,
 "nbformat_minor": 5
}
