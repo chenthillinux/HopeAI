{
 "cells": [
  {
   "cell_type": "code",
   "execution_count": 1,
   "id": "e1472ab2-5812-4b50-a74f-0036714665ce",
   "metadata": {},
   "outputs": [
    {
     "name": "stdout",
     "output_type": "stream",
     "text": [
      "HOPE AI\n"
     ]
    }
   ],
   "source": [
    "print(\"HOPE AI\")"
   ]
  },
  {
   "cell_type": "code",
   "execution_count": 2,
   "id": "c9445102-05ed-4e79-86f5-3de4c4736283",
   "metadata": {},
   "outputs": [
    {
     "name": "stdin",
     "output_type": "stream",
     "text": [
      "Enter your institute name? : HOPE AI\n"
     ]
    },
    {
     "name": "stdout",
     "output_type": "stream",
     "text": [
      "Enter your institute name? : HOPE AI\n"
     ]
    }
   ],
   "source": [
    "provide_institute=input(\"Enter your institute name? :\")\n",
    "print(\"Enter your institute name? :\" , provide_institute )"
   ]
  },
  {
   "cell_type": "code",
   "execution_count": 3,
   "id": "80325a26-9909-4cda-9e16-ad4fb3cc0522",
   "metadata": {},
   "outputs": [
    {
     "name": "stdin",
     "output_type": "stream",
     "text": [
      "Enter your name: raj\n",
      "Enter your age: 15\n",
      "Enter your school name: guru School\n",
      "Enter your drgree: B.E CSE\n"
     ]
    }
   ],
   "source": [
    "\"\"\"\n",
    "Enter your name: Raj\n",
    "Enter your age: 15\n",
    "Enter your school name: Guru school\n",
    "Enter your drgree: B.E CSE\n",
    "\"\"\"\n",
    "name=input(\"Enter your name:\")\n",
    "age=input(\"Enter your age:\")\n",
    "school_name=input(\"Enter your school name:\")\n",
    "degree=input(\"Enter your drgree:\")"
   ]
  },
  {
   "cell_type": "code",
   "execution_count": 11,
   "id": "a43ef980-3921-497e-9237-9c6d53f288f8",
   "metadata": {},
   "outputs": [
    {
     "name": "stdin",
     "output_type": "stream",
     "text": [
      "a= 43\n",
      "b= 34\n"
     ]
    },
    {
     "name": "stdout",
     "output_type": "stream",
     "text": [
      "add = 77\n"
     ]
    }
   ],
   "source": [
    "\"\"\"\n",
    "addition\n",
    "a= 43\n",
    "b= 34\n",
    "add = 77\n",
    "\"\"\"\n",
    "a=int(input(\"a=\"))\n",
    "b=int(input(\"b=\"))\n",
    "print(\"add =\",a+b)\n",
    "      \n",
    "     "
   ]
  },
  {
   "cell_type": "code",
   "execution_count": 10,
   "id": "a2261535-6655-4f1e-94df-cc5570379e82",
   "metadata": {},
   "outputs": [
    {
     "name": "stdin",
     "output_type": "stream",
     "text": [
      "a= 43\n",
      "b= 34\n"
     ]
    },
    {
     "name": "stdout",
     "output_type": "stream",
     "text": [
      "Sub = 9\n"
     ]
    }
   ],
   "source": [
    "\"\"\"\n",
    "subraction \n",
    "a= 43\n",
    "b= 34\n",
    "Sub = 9\n",
    "\"\"\"\n",
    "a=int(input(\"a=\"))\n",
    "b=int(input(\"b=\"))\n",
    "print(\"Sub =\",a-b)\n"
   ]
  },
  {
   "cell_type": "code",
   "execution_count": 9,
   "id": "e8d6a3c3-f41c-44de-923b-7a08ab74e23a",
   "metadata": {},
   "outputs": [
    {
     "name": "stdin",
     "output_type": "stream",
     "text": [
      "a= 63\n",
      "b= 97\n"
     ]
    },
    {
     "name": "stdout",
     "output_type": "stream",
     "text": [
      "Mul = 6111\n"
     ]
    }
   ],
   "source": [
    "\"\"\"\n",
    "Multiplication \n",
    "\n",
    "a= 63\n",
    "b= 97\n",
    "Mul = 6111\n",
    "\n",
    "\"\"\"\n",
    "a=int(input(\"a=\"))\n",
    "b=int(input(\"b=\"))\n",
    "print(\"Mul =\",a*b)\n"
   ]
  },
  {
   "cell_type": "code",
   "execution_count": 12,
   "id": "c38bcd8e-6de1-46b7-936a-a8b0cb17ad40",
   "metadata": {},
   "outputs": [
    {
     "name": "stdin",
     "output_type": "stream",
     "text": [
      "a= 76\n",
      "b= 31\n"
     ]
    },
    {
     "name": "stdout",
     "output_type": "stream",
     "text": [
      "Float Div =  2.4516129032258065\n"
     ]
    }
   ],
   "source": [
    "\"\"\"\n",
    "Float Division\n",
    "a= 76\n",
    "b= 31\n",
    "Float Div = 2.4516129032258065\n",
    "\"\"\"\n",
    "a=int(input(\"a=\"))\n",
    "b=int(input(\"b=\"))\n",
    "print(\"Float Div = \",a/b)"
   ]
  },
  {
   "cell_type": "code",
   "execution_count": 13,
   "id": "6508ad5b-db57-4dfc-bf40-88c3277c0693",
   "metadata": {},
   "outputs": [
    {
     "name": "stdin",
     "output_type": "stream",
     "text": [
      "a= 76\n",
      "b= 31\n"
     ]
    },
    {
     "name": "stdout",
     "output_type": "stream",
     "text": [
      "Floor Div = 2\n"
     ]
    }
   ],
   "source": [
    "\"\"\"\n",
    "Floor Division \n",
    "a= 76\n",
    "b= 31\n",
    "Floor Div = 2\n",
    "\"\"\"\n",
    "a=int(input(\"a=\"))\n",
    "b=int(input(\"b=\"))\n",
    "print(\"Floor Div =\", a//b)\n",
    "\n"
   ]
  },
  {
   "cell_type": "code",
   "execution_count": 14,
   "id": "a404b7fb-c961-4174-9c29-53e072d05483",
   "metadata": {},
   "outputs": [
    {
     "name": "stdin",
     "output_type": "stream",
     "text": [
      "a= 76\n",
      "b= 31\n"
     ]
    },
    {
     "name": "stdout",
     "output_type": "stream",
     "text": [
      "Modulo = 14\n"
     ]
    }
   ],
   "source": [
    "\"\"\"\n",
    "modules\n",
    "a= 76\n",
    "b= 31\n",
    "Modulo = 14\n",
    "\"\"\"\n",
    "a=int(input(\"a=\"))\n",
    "b=int(input(\"b=\"))\n",
    "print(\"Modulo =\",a%b)\n",
    "\n",
    "      \n",
    "\n"
   ]
  },
  {
   "cell_type": "code",
   "execution_count": 15,
   "id": "5c19bb21-3381-44f1-81b1-da3e00b95041",
   "metadata": {},
   "outputs": [
    {
     "name": "stdin",
     "output_type": "stream",
     "text": [
      "a= 4\n",
      "b= 4\n"
     ]
    },
    {
     "name": "stdout",
     "output_type": "stream",
     "text": [
      "Power = 256\n"
     ]
    }
   ],
   "source": [
    "\"\"\"\n",
    "power\n",
    "a= 4 \n",
    "b= 4 \n",
    "Power = 256 \n",
    "\"\"\"\n",
    "a=int(input(\"a=\"))\n",
    "b=int(input(\"b=\"))\n",
    "print(\"Power =\",a**b)\n",
    "    "
   ]
  }
 ],
 "metadata": {
  "kernelspec": {
   "display_name": "Python 3 (ipykernel)",
   "language": "python",
   "name": "python3"
  },
  "language_info": {
   "codemirror_mode": {
    "name": "ipython",
    "version": 3
   },
   "file_extension": ".py",
   "mimetype": "text/x-python",
   "name": "python",
   "nbconvert_exporter": "python",
   "pygments_lexer": "ipython3",
   "version": "3.10.11"
  }
 },
 "nbformat": 4,
 "nbformat_minor": 5
}
